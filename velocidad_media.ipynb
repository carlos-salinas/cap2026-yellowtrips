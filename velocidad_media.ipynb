{
 "cells": [
  {
   "attachments": {},
   "cell_type": "markdown",
   "metadata": {
    "id": "BYkPQP4Y0C3r"
   },
   "source": [
    "# Setup"
   ]
  },
  {
   "cell_type": "code",
   "execution_count": 1,
   "metadata": {
    "colab": {
     "base_uri": "https://localhost:8080/",
     "height": 216
    },
    "id": "EcUvT_eEiLv2",
    "outputId": "29e7314d-97ff-4c06-84e7-4a50c169c54f",
    "scrolled": true
   },
   "outputs": [
    {
     "data": {
      "text/html": [
       "\n",
       "            <div>\n",
       "                <p><b>SparkSession - in-memory</b></p>\n",
       "                \n",
       "        <div>\n",
       "            <p><b>SparkContext</b></p>\n",
       "\n",
       "            <p><a href=\"http://119ce9a3f46b:4040\">Spark UI</a></p>\n",
       "\n",
       "            <dl>\n",
       "              <dt>Version</dt>\n",
       "                <dd><code>v4.0.1</code></dd>\n",
       "              <dt>Master</dt>\n",
       "                <dd><code>local[*]</code></dd>\n",
       "              <dt>AppName</dt>\n",
       "                <dd><code>pyspark-shell</code></dd>\n",
       "            </dl>\n",
       "        </div>\n",
       "        \n",
       "            </div>\n",
       "        "
      ],
      "text/plain": [
       "<pyspark.sql.session.SparkSession at 0xffff65bb6510>"
      ]
     },
     "execution_count": 1,
     "metadata": {},
     "output_type": "execute_result"
    }
   ],
   "source": [
    "from pyspark.sql import SparkSession\n",
    "from pyspark import SparkContext, SparkConf\n",
    "from pyspark.sql import functions as F\n",
    "\n",
    "\n",
    "spark = SparkSession.builder.master('local[*]').getOrCreate()\n",
    "#spark.conf.set('spark.cores.max', '1')\n",
    "#spark.conf.set('spark.driver.memory','1000M')\n",
    "\n",
    "sc = spark.sparkContext\n",
    "\n",
    "spark"
   ]
  },
  {
   "cell_type": "markdown",
   "metadata": {},
   "source": [
    "## Lectura datos"
   ]
  },
  {
   "cell_type": "code",
   "execution_count": 2,
   "metadata": {},
   "outputs": [],
   "source": [
    "df_orig = spark.read.format(\"parquet\").option(\"inferSchema\", \"true\").option(\"timestampFormat\", \"yyyy-MM-dd HH:mm:ss\").option(\"header\", \"true\").option(\"mode\", \"DROPMALFORMED\").load(\"data\")"
   ]
  },
  {
   "cell_type": "code",
   "execution_count": 3,
   "metadata": {},
   "outputs": [
    {
     "data": {
      "text/plain": [
       "41169720"
      ]
     },
     "execution_count": 3,
     "metadata": {},
     "output_type": "execute_result"
    }
   ],
   "source": [
    "df_orig.count()"
   ]
  },
  {
   "cell_type": "code",
   "execution_count": 4,
   "metadata": {},
   "outputs": [],
   "source": [
    "df_orig = df_orig.select([\"tpep_pickup_datetime\", \"tpep_dropoff_datetime\", \"trip_distance\"])"
   ]
  },
  {
   "cell_type": "markdown",
   "metadata": {},
   "source": [
    "### Velocidad media por hora (DataFrames)"
   ]
  },
  {
   "cell_type": "markdown",
   "metadata": {},
   "source": [
    "Cálculo de datos a usar:\n",
    "- Conversión de la distancia del viaje de millas a kilómetros\n",
    "- Cálculo de la duración del viaje en horas\n",
    "- Cálculo de la hora de inicio del viaje (parámetro por el que se agrupará)"
   ]
  },
  {
   "cell_type": "code",
   "execution_count": 5,
   "metadata": {},
   "outputs": [],
   "source": [
    "df = (\n",
    "    df_orig\n",
    "        # Distancia en millas a kilómetros\n",
    "        .withColumn(\"distance\", df_orig[\"trip_distance\"] * 1.60934)\n",
    "        # Duración en horas. `timestamp_diff` trunca la parte decimal, por lo que calculamos la duración en segundos\n",
    "        # y la convertimos a horas manualmente\n",
    "        .withColumn(\"duration\", F.timestamp_diff(\"second\", \"tpep_pickup_datetime\", \"tpep_dropoff_datetime\") / 3600)\n",
    "        # Hora de inicio del viaje\n",
    "        .withColumn(\"hour\", F.hour(\"tpep_pickup_datetime\"))\n",
    ")"
   ]
  },
  {
   "cell_type": "markdown",
   "metadata": {},
   "source": [
    "Limpieza de datos:"
   ]
  },
  {
   "cell_type": "code",
   "execution_count": 6,
   "metadata": {},
   "outputs": [
    {
     "name": "stdout",
     "output_type": "stream",
     "text": [
      "Total: 41169720, invalid: 11935 (0.0290%)\n"
     ]
    }
   ],
   "source": [
    "total = df.count()\n",
    "invalid = df.filter(df.duration == 0).count()\n",
    "print(f\"Total: {total}, invalid: {invalid} ({invalid / total * 100:.4f}%)\")"
   ]
  },
  {
   "cell_type": "markdown",
   "metadata": {},
   "source": [
    "Hay pocos viajes inválidos (duración 0), por lo que podemos eliminarlos:"
   ]
  },
  {
   "cell_type": "code",
   "execution_count": 7,
   "metadata": {},
   "outputs": [],
   "source": [
    "df_clean = df.filter(df.duration != 0)"
   ]
  },
  {
   "cell_type": "markdown",
   "metadata": {},
   "source": [
    "Cálculo de la velocidad media por hora:"
   ]
  },
  {
   "cell_type": "code",
   "execution_count": 8,
   "metadata": {},
   "outputs": [],
   "source": [
    "df_result = df_clean.withColumn(\"speed\", df[\"distance\"] / df[\"duration\"]).groupBy(\"hour\").avg(\"speed\")"
   ]
  },
  {
   "cell_type": "markdown",
   "metadata": {},
   "source": [
    "Resultados obtenidos:"
   ]
  },
  {
   "cell_type": "code",
   "execution_count": 9,
   "metadata": {
    "scrolled": true
   },
   "outputs": [
    {
     "data": {
      "text/html": [
       "<div>\n",
       "<style scoped>\n",
       "    .dataframe tbody tr th:only-of-type {\n",
       "        vertical-align: middle;\n",
       "    }\n",
       "\n",
       "    .dataframe tbody tr th {\n",
       "        vertical-align: top;\n",
       "    }\n",
       "\n",
       "    .dataframe thead th {\n",
       "        text-align: right;\n",
       "    }\n",
       "</style>\n",
       "<table border=\"1\" class=\"dataframe\">\n",
       "  <thead>\n",
       "    <tr style=\"text-align: right;\">\n",
       "      <th></th>\n",
       "      <th>hour</th>\n",
       "      <th>avg(speed)</th>\n",
       "    </tr>\n",
       "  </thead>\n",
       "  <tbody>\n",
       "    <tr>\n",
       "      <th>0</th>\n",
       "      <td>0</td>\n",
       "      <td>28.102599</td>\n",
       "    </tr>\n",
       "    <tr>\n",
       "      <th>1</th>\n",
       "      <td>1</td>\n",
       "      <td>29.394897</td>\n",
       "    </tr>\n",
       "    <tr>\n",
       "      <th>2</th>\n",
       "      <td>2</td>\n",
       "      <td>25.968224</td>\n",
       "    </tr>\n",
       "    <tr>\n",
       "      <th>3</th>\n",
       "      <td>3</td>\n",
       "      <td>43.064120</td>\n",
       "    </tr>\n",
       "    <tr>\n",
       "      <th>4</th>\n",
       "      <td>4</td>\n",
       "      <td>75.292156</td>\n",
       "    </tr>\n",
       "    <tr>\n",
       "      <th>5</th>\n",
       "      <td>5</td>\n",
       "      <td>181.852958</td>\n",
       "    </tr>\n",
       "    <tr>\n",
       "      <th>6</th>\n",
       "      <td>6</td>\n",
       "      <td>105.125626</td>\n",
       "    </tr>\n",
       "    <tr>\n",
       "      <th>7</th>\n",
       "      <td>7</td>\n",
       "      <td>76.886155</td>\n",
       "    </tr>\n",
       "    <tr>\n",
       "      <th>8</th>\n",
       "      <td>8</td>\n",
       "      <td>41.459151</td>\n",
       "    </tr>\n",
       "    <tr>\n",
       "      <th>9</th>\n",
       "      <td>9</td>\n",
       "      <td>28.072524</td>\n",
       "    </tr>\n",
       "    <tr>\n",
       "      <th>10</th>\n",
       "      <td>10</td>\n",
       "      <td>25.623325</td>\n",
       "    </tr>\n",
       "    <tr>\n",
       "      <th>11</th>\n",
       "      <td>11</td>\n",
       "      <td>22.999781</td>\n",
       "    </tr>\n",
       "    <tr>\n",
       "      <th>12</th>\n",
       "      <td>12</td>\n",
       "      <td>21.177211</td>\n",
       "    </tr>\n",
       "    <tr>\n",
       "      <th>13</th>\n",
       "      <td>13</td>\n",
       "      <td>20.895396</td>\n",
       "    </tr>\n",
       "    <tr>\n",
       "      <th>14</th>\n",
       "      <td>14</td>\n",
       "      <td>25.411342</td>\n",
       "    </tr>\n",
       "    <tr>\n",
       "      <th>15</th>\n",
       "      <td>15</td>\n",
       "      <td>23.746813</td>\n",
       "    </tr>\n",
       "    <tr>\n",
       "      <th>16</th>\n",
       "      <td>16</td>\n",
       "      <td>22.304084</td>\n",
       "    </tr>\n",
       "    <tr>\n",
       "      <th>17</th>\n",
       "      <td>17</td>\n",
       "      <td>26.102427</td>\n",
       "    </tr>\n",
       "    <tr>\n",
       "      <th>18</th>\n",
       "      <td>18</td>\n",
       "      <td>20.903621</td>\n",
       "    </tr>\n",
       "    <tr>\n",
       "      <th>19</th>\n",
       "      <td>19</td>\n",
       "      <td>25.183161</td>\n",
       "    </tr>\n",
       "    <tr>\n",
       "      <th>20</th>\n",
       "      <td>20</td>\n",
       "      <td>25.134104</td>\n",
       "    </tr>\n",
       "    <tr>\n",
       "      <th>21</th>\n",
       "      <td>21</td>\n",
       "      <td>26.681725</td>\n",
       "    </tr>\n",
       "    <tr>\n",
       "      <th>22</th>\n",
       "      <td>22</td>\n",
       "      <td>24.993413</td>\n",
       "    </tr>\n",
       "    <tr>\n",
       "      <th>23</th>\n",
       "      <td>23</td>\n",
       "      <td>28.369455</td>\n",
       "    </tr>\n",
       "  </tbody>\n",
       "</table>\n",
       "</div>"
      ],
      "text/plain": [
       "    hour  avg(speed)\n",
       "0      0   28.102599\n",
       "1      1   29.394897\n",
       "2      2   25.968224\n",
       "3      3   43.064120\n",
       "4      4   75.292156\n",
       "5      5  181.852958\n",
       "6      6  105.125626\n",
       "7      7   76.886155\n",
       "8      8   41.459151\n",
       "9      9   28.072524\n",
       "10    10   25.623325\n",
       "11    11   22.999781\n",
       "12    12   21.177211\n",
       "13    13   20.895396\n",
       "14    14   25.411342\n",
       "15    15   23.746813\n",
       "16    16   22.304084\n",
       "17    17   26.102427\n",
       "18    18   20.903621\n",
       "19    19   25.183161\n",
       "20    20   25.134104\n",
       "21    21   26.681725\n",
       "22    22   24.993413\n",
       "23    23   28.369455"
      ]
     },
     "execution_count": 9,
     "metadata": {},
     "output_type": "execute_result"
    }
   ],
   "source": [
    "df_result.sort(df_result.hour.asc()).toPandas()"
   ]
  },
  {
   "cell_type": "code",
   "execution_count": 10,
   "metadata": {},
   "outputs": [
    {
     "data": {
      "image/png": "[encoded data removed]",
      "text/plain": [
       "<Figure size 640x480 with 1 Axes>"
      ]
     },
     "metadata": {},
     "output_type": "display_data"
    }
   ],
   "source": [
    "import matplotlib as mpl\n",
    "import matplotlib.pyplot as plt\n",
    "data = df_result.collect()\n",
    "\n",
    "x = [x.hour for x in data]\n",
    "y = [x[\"avg(speed)\"] for x in data]\n",
    "\n",
    "plt.bar(x, y)\n",
    "plt.plot()\n",
    "\n",
    "plt.xlabel(\"Hora\")\n",
    "plt.ylabel(\"Velocidad media (km/h)\")\n",
    "plt.title(\"Velocidad media por hora\")\n",
    "plt.show()"
   ]
  },
  {
   "cell_type": "markdown",
   "metadata": {},
   "source": [
    "### Velocidad media por hora (SQL)"
   ]
  },
  {
   "cell_type": "markdown",
   "metadata": {},
   "source": [
    "Obtenemos los datos y convertimos los datos en una vista de sql"
   ]
  },
  {
   "cell_type": "code",
   "execution_count": 11,
   "metadata": {},
   "outputs": [],
   "source": [
    "df_orig = spark.read.format(\"parquet\").option(\"inferSchema\", \"true\").option(\"timestampFormat\", \"yyyy-MM-dd HH:mm:ss\").option(\"header\", \"true\").option(\"mode\", \"DROPMALFORMED\").load(\"data\")\n",
    "df_orig.createOrReplaceTempView(\"yellow_trip_orig\")"
   ]
  },
  {
   "cell_type": "markdown",
   "metadata": {},
   "source": [
    "Ahora procedemos a convertir la distancia de millas a km y de nuevo creamos una nueva vista"
   ]
  },
  {
   "cell_type": "code",
   "execution_count": 12,
   "metadata": {},
   "outputs": [],
   "source": [
    "df_sql = spark.sql(\"SELECT tpep_pickup_datetime, tpep_dropoff_datetime, trip_distance * 1.60934 AS trip_distance_km FROM yellow_trip_orig\").createOrReplaceTempView(\"yellow_trip_dist_km\")"
   ]
  },
  {
   "cell_type": "markdown",
   "metadata": {},
   "source": [
    "A continuación calculamos la duración del viaje y obtenemos de la fecha de recogida la hora"
   ]
  },
  {
   "cell_type": "code",
   "execution_count": 13,
   "metadata": {
    "scrolled": true
   },
   "outputs": [],
   "source": [
    "df = spark.sql(\"SELECT trip_distance_km, (unix_timestamp(tpep_dropoff_datetime) - unix_timestamp(tpep_pickup_datetime)) / 3600 AS duration_hours, hour(tpep_pickup_datetime) AS hour FROM yellow_trip_dist_km\")\n",
    "df.createOrReplaceTempView(\"yellow_trip\")"
   ]
  },
  {
   "cell_type": "markdown",
   "metadata": {},
   "source": [
    "Realizamos un limpieza de datos"
   ]
  },
  {
   "cell_type": "code",
   "execution_count": 14,
   "metadata": {},
   "outputs": [
    {
     "name": "stdout",
     "output_type": "stream",
     "text": [
      "Total: 41169720, invalid: 11935 (0.0290%)\n"
     ]
    }
   ],
   "source": [
    "total = df.count()\n",
    "invalid = df.filter(\"duration_hours = 0\").count()\n",
    "print(f\"Total: {total}, invalid: {invalid} ({invalid / total * 100:.4f}%)\")"
   ]
  },
  {
   "cell_type": "code",
   "execution_count": 15,
   "metadata": {},
   "outputs": [
    {
     "name": "stdout",
     "output_type": "stream",
     "text": [
      "+------------------+--------------------+----+\n",
      "|  trip_distance_km|      duration_hours|hour|\n",
      "+------------------+--------------------+----+\n",
      "|           4.82802|               0.295|   0|\n",
      "|3.5405480000000003| 0.21805555555555556|   0|\n",
      "|          4.345218| 0.15166666666666667|   0|\n",
      "|4.9889540000000006| 0.18083333333333335|   0|\n",
      "|               0.0|0.004722222222222222|   0|\n",
      "|         1.5610598| 0.07777777777777778|   0|\n",
      "|          2.092142| 0.10111111111111111|   0|\n",
      "|           0.80467| 0.04138888888888889|   0|\n",
      "|1.7702740000000001|0.059722222222222225|   0|\n",
      "|3.5405480000000003|  0.1461111111111111|   0|\n",
      "+------------------+--------------------+----+\n",
      "only showing top 10 rows\n"
     ]
    }
   ],
   "source": [
    "df = spark.sql(\"Select trip_distance_km, duration_hours, hour from yellow_trip Where duration_hours != 0\")\n",
    "df.show(10)\n",
    "df.createOrReplaceTempView(\"yellow_trip_clean\")"
   ]
  },
  {
   "cell_type": "markdown",
   "metadata": {},
   "source": [
    "Obtenemos la velocidad media por hora"
   ]
  },
  {
   "cell_type": "code",
   "execution_count": 16,
   "metadata": {},
   "outputs": [],
   "source": [
    "df = spark.sql(\"Select hour, AVG(trip_distance_km / duration_hours) AS avg_speed FROM yellow_trip_clean GROUP BY hour Order By (hour)\")"
   ]
  },
  {
   "cell_type": "markdown",
   "metadata": {},
   "source": [
    "Obtenemos los resultados"
   ]
  },
  {
   "cell_type": "code",
   "execution_count": 17,
   "metadata": {},
   "outputs": [
    {
     "data": {
      "text/html": [
       "<div>\n",
       "<style scoped>\n",
       "    .dataframe tbody tr th:only-of-type {\n",
       "        vertical-align: middle;\n",
       "    }\n",
       "\n",
       "    .dataframe tbody tr th {\n",
       "        vertical-align: top;\n",
       "    }\n",
       "\n",
       "    .dataframe thead th {\n",
       "        text-align: right;\n",
       "    }\n",
       "</style>\n",
       "<table border=\"1\" class=\"dataframe\">\n",
       "  <thead>\n",
       "    <tr style=\"text-align: right;\">\n",
       "      <th></th>\n",
       "      <th>hour</th>\n",
       "      <th>avg_speed</th>\n",
       "    </tr>\n",
       "  </thead>\n",
       "  <tbody>\n",
       "    <tr>\n",
       "      <th>0</th>\n",
       "      <td>0</td>\n",
       "      <td>28.102599</td>\n",
       "    </tr>\n",
       "    <tr>\n",
       "      <th>1</th>\n",
       "      <td>1</td>\n",
       "      <td>29.394897</td>\n",
       "    </tr>\n",
       "    <tr>\n",
       "      <th>2</th>\n",
       "      <td>2</td>\n",
       "      <td>25.968224</td>\n",
       "    </tr>\n",
       "    <tr>\n",
       "      <th>3</th>\n",
       "      <td>3</td>\n",
       "      <td>43.064120</td>\n",
       "    </tr>\n",
       "    <tr>\n",
       "      <th>4</th>\n",
       "      <td>4</td>\n",
       "      <td>75.292156</td>\n",
       "    </tr>\n",
       "    <tr>\n",
       "      <th>5</th>\n",
       "      <td>5</td>\n",
       "      <td>181.852958</td>\n",
       "    </tr>\n",
       "    <tr>\n",
       "      <th>6</th>\n",
       "      <td>6</td>\n",
       "      <td>105.125626</td>\n",
       "    </tr>\n",
       "    <tr>\n",
       "      <th>7</th>\n",
       "      <td>7</td>\n",
       "      <td>76.886155</td>\n",
       "    </tr>\n",
       "    <tr>\n",
       "      <th>8</th>\n",
       "      <td>8</td>\n",
       "      <td>41.459151</td>\n",
       "    </tr>\n",
       "    <tr>\n",
       "      <th>9</th>\n",
       "      <td>9</td>\n",
       "      <td>28.072524</td>\n",
       "    </tr>\n",
       "    <tr>\n",
       "      <th>10</th>\n",
       "      <td>10</td>\n",
       "      <td>25.623325</td>\n",
       "    </tr>\n",
       "    <tr>\n",
       "      <th>11</th>\n",
       "      <td>11</td>\n",
       "      <td>22.999781</td>\n",
       "    </tr>\n",
       "    <tr>\n",
       "      <th>12</th>\n",
       "      <td>12</td>\n",
       "      <td>21.177211</td>\n",
       "    </tr>\n",
       "    <tr>\n",
       "      <th>13</th>\n",
       "      <td>13</td>\n",
       "      <td>20.895396</td>\n",
       "    </tr>\n",
       "    <tr>\n",
       "      <th>14</th>\n",
       "      <td>14</td>\n",
       "      <td>25.411342</td>\n",
       "    </tr>\n",
       "    <tr>\n",
       "      <th>15</th>\n",
       "      <td>15</td>\n",
       "      <td>23.746813</td>\n",
       "    </tr>\n",
       "    <tr>\n",
       "      <th>16</th>\n",
       "      <td>16</td>\n",
       "      <td>22.304084</td>\n",
       "    </tr>\n",
       "    <tr>\n",
       "      <th>17</th>\n",
       "      <td>17</td>\n",
       "      <td>26.102427</td>\n",
       "    </tr>\n",
       "    <tr>\n",
       "      <th>18</th>\n",
       "      <td>18</td>\n",
       "      <td>20.903621</td>\n",
       "    </tr>\n",
       "    <tr>\n",
       "      <th>19</th>\n",
       "      <td>19</td>\n",
       "      <td>25.183161</td>\n",
       "    </tr>\n",
       "    <tr>\n",
       "      <th>20</th>\n",
       "      <td>20</td>\n",
       "      <td>25.134104</td>\n",
       "    </tr>\n",
       "    <tr>\n",
       "      <th>21</th>\n",
       "      <td>21</td>\n",
       "      <td>26.681725</td>\n",
       "    </tr>\n",
       "    <tr>\n",
       "      <th>22</th>\n",
       "      <td>22</td>\n",
       "      <td>24.993413</td>\n",
       "    </tr>\n",
       "    <tr>\n",
       "      <th>23</th>\n",
       "      <td>23</td>\n",
       "      <td>28.369455</td>\n",
       "    </tr>\n",
       "  </tbody>\n",
       "</table>\n",
       "</div>"
      ],
      "text/plain": [
       "    hour   avg_speed\n",
       "0      0   28.102599\n",
       "1      1   29.394897\n",
       "2      2   25.968224\n",
       "3      3   43.064120\n",
       "4      4   75.292156\n",
       "5      5  181.852958\n",
       "6      6  105.125626\n",
       "7      7   76.886155\n",
       "8      8   41.459151\n",
       "9      9   28.072524\n",
       "10    10   25.623325\n",
       "11    11   22.999781\n",
       "12    12   21.177211\n",
       "13    13   20.895396\n",
       "14    14   25.411342\n",
       "15    15   23.746813\n",
       "16    16   22.304084\n",
       "17    17   26.102427\n",
       "18    18   20.903621\n",
       "19    19   25.183161\n",
       "20    20   25.134104\n",
       "21    21   26.681725\n",
       "22    22   24.993413\n",
       "23    23   28.369455"
      ]
     },
     "execution_count": 17,
     "metadata": {},
     "output_type": "execute_result"
    }
   ],
   "source": [
    "df.toPandas()"
   ]
  },
  {
   "cell_type": "code",
   "execution_count": 18,
   "metadata": {},
   "outputs": [
    {
     "data": {
      "image/png": "[encoded data removed]",
      "text/plain": [
       "<Figure size 640x480 with 1 Axes>"
      ]
     },
     "metadata": {},
     "output_type": "display_data"
    }
   ],
   "source": [
    "data = df.collect()\n",
    "\n",
    "x = [x.hour for x in data]\n",
    "y = [x[\"avg_speed\"] for x in data]\n",
    "\n",
    "plt.bar(x, y)\n",
    "plt.plot()\n",
    "\n",
    "plt.xlabel(\"Hora\")\n",
    "plt.ylabel(\"Velocidad media (km/h)\")\n",
    "plt.title(\"Velocidad media por hora\")\n",
    "plt.show()"
   ]
  },
  {
   "cell_type": "markdown",
   "metadata": {},
   "source": [
    "### Velocidad media por hora (RDD)"
   ]
  },
  {
   "cell_type": "code",
   "execution_count": 2,
   "metadata": {},
   "outputs": [],
   "source": [
    "df_orig = spark.read.format(\"parquet\").option(\"inferSchema\", \"true\").option(\"timestampFormat\", \"yyyy-MM-dd HH:mm:ss\").option(\"header\", \"true\").option(\"mode\", \"DROPMALFORMED\").load(\"data\")"
   ]
  },
  {
   "cell_type": "code",
   "execution_count": 4,
   "metadata": {},
   "outputs": [
    {
     "data": {
      "text/plain": [
       "[(0, 28.102598943861917),\n",
       " (1, 29.394896845785002),\n",
       " (2, 25.968223570128323),\n",
       " (3, 43.06412003786556),\n",
       " (4, 75.29215637991408),\n",
       " (5, 181.85295793666933),\n",
       " (6, 105.12562577963752),\n",
       " (7, 76.88615544349912),\n",
       " (8, 41.45915133486055),\n",
       " (9, 28.072524340683913),\n",
       " (10, 25.623325477822448),\n",
       " (11, 22.999780970778506),\n",
       " (12, 21.177210795315528),\n",
       " (13, 20.895395569423368),\n",
       " (14, 25.411342334646772),\n",
       " (15, 23.74681330738671),\n",
       " (16, 22.304083835017355),\n",
       " (17, 26.102427174399992),\n",
       " (18, 20.903620517943324),\n",
       " (19, 25.183161017173244),\n",
       " (20, 25.134103547495755),\n",
       " (21, 26.68172450261278),\n",
       " (22, 24.993413478509673),\n",
       " (23, 28.369455328891565)]"
      ]
     },
     "execution_count": 4,
     "metadata": {},
     "output_type": "execute_result"
    }
   ],
   "source": [
    "from pyspark.sql import Row\n",
    "rdd_orig = df_orig.rdd\n",
    "\n",
    "rdd = rdd_orig.map(lambda x:\n",
    "                        (x.trip_distance * 1.60934,\n",
    "                        (x.tpep_dropoff_datetime.timestamp() - x.tpep_pickup_datetime.timestamp()) / 3600,\n",
    "                        x.tpep_pickup_datetime.hour))\n",
    "\n",
    "rdd_clean = rdd.filter(lambda x: x[1] != 0)\n",
    "rdd = rdd_clean.map(lambda x: (\n",
    "    x[2],\n",
    "    (x[0]/x[1],1)\n",
    "))\n",
    "\n",
    "rdd_reduced = rdd.reduceByKey(lambda x,y: (x[0] + y[0], x[1] + y[1]))\n",
    "\n",
    "rdd_avg = rdd_reduced.map(lambda x: (\n",
    "        x[0],\n",
    "        x[1][0]/x[1][1]\n",
    "    ))\n",
    "\n",
    "result = rdd_avg.sortByKey().collect()\n",
    "result"
   ]
  },
  {
   "cell_type": "code",
   "execution_count": 6,
   "metadata": {},
   "outputs": [
    {
     "data": {
      "image/png": "[encoded data removed]",
      "text/plain": [
       "<Figure size 640x480 with 1 Axes>"
      ]
     },
     "metadata": {},
     "output_type": "display_data"
    }
   ],
   "source": [
    "import matplotlib as mpl\n",
    "import matplotlib.pyplot as plt\n",
    "x = [x[0] for x in result]\n",
    "y = [x[1] for x in result]\n",
    "\n",
    "plt.bar(x, y)\n",
    "plt.plot()\n",
    "\n",
    "plt.xlabel(\"Hora\")\n",
    "plt.ylabel(\"Velocidad media (km/h)\")\n",
    "plt.title(\"Velocidad media por hora\")\n",
    "plt.show()"
   ]
  },
  {
   "cell_type": "markdown",
   "metadata": {},
   "source": [
    "# Análisis de rendimiento"
   ]
  },
  {
   "cell_type": "markdown",
   "metadata": {},
   "source": [
    "Definimos cada una de las implementaciones a analizar como funciones parametrizadas, para facilitar las pruebas:"
   ]
  },
  {
   "cell_type": "code",
   "execution_count": 5,
   "metadata": {},
   "outputs": [],
   "source": [
    "from pyspark.sql import SparkSession\n",
    "from pyspark import SparkContext, SparkConf\n",
    "from pyspark.sql import functions as F\n",
    "import pandas as pd\n",
    "\n",
    "spark.stop()\n",
    "\n",
    "def setup(cores):\n",
    "    return SparkSession.builder.master(f'local[{cores}]').getOrCreate()\n",
    "\n",
    "def read(spark):\n",
    "    return spark.read.format(\"parquet\").option(\"inferSchema\", \"true\").option(\"timestampFormat\", \"yyyy-MM-dd HH:mm:ss\").option(\"header\", \"true\").option(\"mode\", \"DROPMALFORMED\").load(\"data\")\n",
    "\n",
    "def data_frames(cores):\n",
    "    spark = setup(cores)\n",
    "    df_orig = read(spark)\n",
    "    df_orig = df_orig.select([\"tpep_pickup_datetime\", \"tpep_dropoff_datetime\", \"trip_distance\"])\n",
    "    df = (\n",
    "        df_orig\n",
    "            .withColumn(\"distance\", df_orig[\"trip_distance\"] * 1.60934)\n",
    "            .withColumn(\"duration\", F.timestamp_diff(\"second\", \"tpep_pickup_datetime\", \"tpep_dropoff_datetime\") / 3600)\n",
    "            .withColumn(\"hour\", F.hour(\"tpep_pickup_datetime\"))\n",
    "    )\n",
    "    df_result = df.filter(df.duration != 0).withColumn(\"speed\", df[\"distance\"] / df[\"duration\"]).groupBy(\"hour\").avg(\"speed\")\n",
    "    res = df_result.sort(df_result.hour.asc()).toPandas()\n",
    "    spark.stop()\n",
    "    return res\n",
    "\n",
    "def sql(cores):\n",
    "    spark = setup(cores)\n",
    "    df_orig = read(spark)\n",
    "    df_orig.createOrReplaceTempView(\"yellow_trip_orig\")\n",
    "    df_sql = spark.sql(\"SELECT tpep_pickup_datetime, tpep_dropoff_datetime, trip_distance * 1.60934 AS trip_distance_km FROM yellow_trip_orig\").createOrReplaceTempView(\"yellow_trip_dist_km\")\n",
    "    df = spark.sql(\"SELECT trip_distance_km, (unix_timestamp(tpep_dropoff_datetime) - unix_timestamp(tpep_pickup_datetime)) / 3600 AS duration_hours, hour(tpep_pickup_datetime) AS hour FROM yellow_trip_dist_km\")\n",
    "    df.createOrReplaceTempView(\"yellow_trip\")\n",
    "    df = spark.sql(\"Select trip_distance_km, duration_hours, hour from yellow_trip Where duration_hours != 0\")\n",
    "    df.createOrReplaceTempView(\"yellow_trip_clean\")\n",
    "    df = spark.sql(\"Select hour, AVG(trip_distance_km / duration_hours) AS avg_speed FROM yellow_trip_clean GROUP BY hour Order By (hour)\")\n",
    "    res = df.toPandas()\n",
    "    spark.stop()\n",
    "    return res\n",
    "\n",
    "def rdd(cores):\n",
    "    spark = setup(cores)\n",
    "    df_orig = read(spark)\n",
    "    rdd_orig = df_orig.rdd\n",
    "    rdd = rdd_orig.map(lambda x:\n",
    "                        (x.trip_distance * 1.60934,\n",
    "                        (x.tpep_dropoff_datetime.timestamp() - x.tpep_pickup_datetime.timestamp()) / 3600,\n",
    "                        x.tpep_pickup_datetime.hour))\n",
    "\n",
    "    rdd_clean = rdd.filter(lambda x: x[1] != 0)\n",
    "    rdd = rdd_clean.map(lambda x: (\n",
    "        x[2],\n",
    "        (x[0]/x[1],1)\n",
    "    ))\n",
    "    rdd_reduced = rdd.reduceByKey(lambda x,y: (x[0] + y[0], x[1] + y[1]))\n",
    "    rdd_avg = rdd_reduced.map(lambda x: (\n",
    "            x[0],\n",
    "            x[1][0]/x[1][1]\n",
    "        ))\n",
    "    result = rdd_avg.sortByKey().collect()\n",
    "    spark.stop()\n",
    "    return pd.DataFrame(result,columns=[\"hours\", \"avg_speed\"])"
   ]
  },
  {
   "cell_type": "markdown",
   "metadata": {},
   "source": [
    "Medimos el rendimiento para diferentes cantidades de hilos:"
   ]
  },
  {
   "cell_type": "code",
   "execution_count": 16,
   "metadata": {},
   "outputs": [],
   "source": [
    "import time\n",
    "\n",
    "y = []\n",
    "for func in (rdd,data_frames,sql):\n",
    "    res = []\n",
    "    for i in range(1, 9):\n",
    "        t1 = time.time()\n",
    "        func(i)\n",
    "        t2 = time.time()\n",
    "        res.append(t2 - t1)\n",
    "    y.append(res)\n",
    "x = list(range(1, 9))"
   ]
  },
  {
   "cell_type": "code",
   "execution_count": 17,
   "metadata": {},
   "outputs": [
    {
     "data": {
      "image/png": "[encoded data removed]",
      "text/plain": [
       "<Figure size 640x480 with 1 Axes>"
      ]
     },
     "metadata": {},
     "output_type": "display_data"
    },
    {
     "data": {
      "image/png": "[encoded data removed]",
      "text/plain": [
       "<Figure size 640x480 with 1 Axes>"
      ]
     },
     "metadata": {},
     "output_type": "display_data"
    }
   ],
   "source": [
    "import matplotlib as mpl\n",
    "import matplotlib.pyplot as plt\n",
    "\n",
    "bars = [(\"rdd\",\"r\"), (\"dataframes\", \"b\"), (\"sql\", \"g\"),]\n",
    "\n",
    "for i, (label, color) in enumerate(bars):\n",
    "    plt.bar(x, y[i], label=label, color=color)\n",
    "plt.plot()\n",
    "\n",
    "plt.yscale('log') # Escala logarítmica \n",
    "plt.xlabel(\"Hilos\")\n",
    "plt.ylabel(\"Tiempo (s)\")\n",
    "plt.title(\"Tiempo de ejecución\")\n",
    "plt.legend()\n",
    "plt.show()\n",
    "\n",
    "for i, (label, color) in enumerate(bars):\n",
    "    plt.bar(x, [y[i][0]/t for t in y[i]], label=label, color=color)\n",
    "plt.plot()\n",
    "\n",
    "plt.yscale('linear')\n",
    "plt.xlabel(\"Hilos\")\n",
    "plt.ylabel(\"Speedup\")\n",
    "plt.title(\"Speedup vs hilos\")\n",
    "plt.legend()\n",
    "plt.show()"
   ]
  },
  {
   "cell_type": "code",
   "execution_count": null,
   "metadata": {},
   "outputs": [],
   "source": []
  }
 ],
 "metadata": {
  "colab": {
   "collapsed_sections": [
    "BYkPQP4Y0C3r",
    "Q3B58xLV-M4k",
    "abLWyOFm_vF_",
    "jDo0xp9kA-Y1",
    "m5iNbIIXGNI2",
    "sVwzNeG7HBPG",
    "9DRWkJpkNUck",
    "CGiwTDTq7rqs",
    "v-IRLtMwcuER",
    "qGV5Rs-f7COd",
    "ISw1JP9oz6kw"
   ],
   "provenance": []
  },
  "kernelspec": {
   "display_name": "Python 3 (ipykernel)",
   "language": "python",
   "name": "python3"
  },
  "language_info": {
   "codemirror_mode": {
    "name": "ipython",
    "version": 3
   },
   "file_extension": ".py",
   "mimetype": "text/x-python",
   "name": "python",
   "nbconvert_exporter": "python",
   "pygments_lexer": "ipython3",
   "version": "3.13.7"
  }
 },
 "nbformat": 4,
 "nbformat_minor": 4
}
